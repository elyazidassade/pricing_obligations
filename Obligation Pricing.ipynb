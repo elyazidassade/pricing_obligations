{
 "cells": [
  {
   "cell_type": "code",
   "execution_count": 101,
   "metadata": {},
   "outputs": [],
   "source": [
    "import pandas as pd\n",
    "import numpy as np\n",
    "import matplotlib.pyplot as plt"
   ]
  },
  {
   "cell_type": "markdown",
   "metadata": {},
   "source": [
    "# Courbe de taux par Bank Al Maghrib"
   ]
  },
  {
   "cell_type": "code",
   "execution_count": 78,
   "metadata": {},
   "outputs": [],
   "source": [
    "taux_bkam = pd.read_excel(\"C:/Users/Yazid/Desktop/Pricing/doc4.xlsx\")\n",
    "taux_bkam = taux_bkam.set_index(\"Date d'échéance\")\n",
    "taux_bkam[\"Nombre de jours\"] = 0"
   ]
  },
  {
   "cell_type": "code",
   "execution_count": 102,
   "metadata": {},
   "outputs": [
    {
     "data": {
      "text/html": [
       "<div>\n",
       "<style scoped>\n",
       "    .dataframe tbody tr th:only-of-type {\n",
       "        vertical-align: middle;\n",
       "    }\n",
       "\n",
       "    .dataframe tbody tr th {\n",
       "        vertical-align: top;\n",
       "    }\n",
       "\n",
       "    .dataframe thead th {\n",
       "        text-align: right;\n",
       "    }\n",
       "</style>\n",
       "<table border=\"1\" class=\"dataframe\">\n",
       "  <thead>\n",
       "    <tr style=\"text-align: right;\">\n",
       "      <th></th>\n",
       "      <th>Transaction</th>\n",
       "      <th>Taux</th>\n",
       "      <th>Date de la valeur</th>\n",
       "      <th>Nombre de jours</th>\n",
       "    </tr>\n",
       "    <tr>\n",
       "      <th>Date d'échéance</th>\n",
       "      <th></th>\n",
       "      <th></th>\n",
       "      <th></th>\n",
       "      <th></th>\n",
       "    </tr>\n",
       "  </thead>\n",
       "  <tbody>\n",
       "    <tr>\n",
       "      <td>2020-09-05</td>\n",
       "      <td>21.02</td>\n",
       "      <td>0.01534</td>\n",
       "      <td>2020-07-21</td>\n",
       "      <td>46</td>\n",
       "    </tr>\n",
       "    <tr>\n",
       "      <td>2020-09-14</td>\n",
       "      <td>89.47</td>\n",
       "      <td>0.01540</td>\n",
       "      <td>2020-07-20</td>\n",
       "      <td>56</td>\n",
       "    </tr>\n",
       "    <tr>\n",
       "      <td>2020-12-07</td>\n",
       "      <td>61.48</td>\n",
       "      <td>0.01590</td>\n",
       "      <td>2020-07-23</td>\n",
       "      <td>137</td>\n",
       "    </tr>\n",
       "    <tr>\n",
       "      <td>2021-02-15</td>\n",
       "      <td>27.76</td>\n",
       "      <td>0.01574</td>\n",
       "      <td>2020-07-23</td>\n",
       "      <td>207</td>\n",
       "    </tr>\n",
       "    <tr>\n",
       "      <td>2021-05-17</td>\n",
       "      <td>282.82</td>\n",
       "      <td>0.01635</td>\n",
       "      <td>2020-07-23</td>\n",
       "      <td>298</td>\n",
       "    </tr>\n",
       "    <tr>\n",
       "      <td>2022-07-18</td>\n",
       "      <td>124.58</td>\n",
       "      <td>0.01798</td>\n",
       "      <td>2020-07-23</td>\n",
       "      <td>725</td>\n",
       "    </tr>\n",
       "    <tr>\n",
       "      <td>2022-08-15</td>\n",
       "      <td>124.53</td>\n",
       "      <td>0.01805</td>\n",
       "      <td>2020-07-23</td>\n",
       "      <td>753</td>\n",
       "    </tr>\n",
       "    <tr>\n",
       "      <td>2023-04-03</td>\n",
       "      <td>103.35</td>\n",
       "      <td>0.01840</td>\n",
       "      <td>2020-07-23</td>\n",
       "      <td>984</td>\n",
       "    </tr>\n",
       "    <tr>\n",
       "      <td>2025-04-14</td>\n",
       "      <td>247.36</td>\n",
       "      <td>0.02009</td>\n",
       "      <td>2020-07-23</td>\n",
       "      <td>1726</td>\n",
       "    </tr>\n",
       "    <tr>\n",
       "      <td>2025-06-02</td>\n",
       "      <td>41.08</td>\n",
       "      <td>0.02019</td>\n",
       "      <td>2020-07-23</td>\n",
       "      <td>1775</td>\n",
       "    </tr>\n",
       "    <tr>\n",
       "      <td>2028-06-19</td>\n",
       "      <td>43.12</td>\n",
       "      <td>0.02254</td>\n",
       "      <td>2020-07-23</td>\n",
       "      <td>2888</td>\n",
       "    </tr>\n",
       "    <tr>\n",
       "      <td>2029-06-18</td>\n",
       "      <td>135.76</td>\n",
       "      <td>0.02330</td>\n",
       "      <td>2020-07-23</td>\n",
       "      <td>3252</td>\n",
       "    </tr>\n",
       "    <tr>\n",
       "      <td>2030-06-17</td>\n",
       "      <td>52.07</td>\n",
       "      <td>0.02390</td>\n",
       "      <td>2020-07-23</td>\n",
       "      <td>3616</td>\n",
       "    </tr>\n",
       "    <tr>\n",
       "      <td>2033-07-18</td>\n",
       "      <td>39.58</td>\n",
       "      <td>0.02510</td>\n",
       "      <td>2020-07-23</td>\n",
       "      <td>4743</td>\n",
       "    </tr>\n",
       "    <tr>\n",
       "      <td>2036-02-04</td>\n",
       "      <td>207.87</td>\n",
       "      <td>0.02675</td>\n",
       "      <td>2020-07-23</td>\n",
       "      <td>5674</td>\n",
       "    </tr>\n",
       "    <tr>\n",
       "      <td>2040-04-16</td>\n",
       "      <td>43.32</td>\n",
       "      <td>0.02908</td>\n",
       "      <td>2020-07-17</td>\n",
       "      <td>7213</td>\n",
       "    </tr>\n",
       "    <tr>\n",
       "      <td>2046-02-19</td>\n",
       "      <td>25.93</td>\n",
       "      <td>0.03243</td>\n",
       "      <td>2020-07-20</td>\n",
       "      <td>9345</td>\n",
       "    </tr>\n",
       "    <tr>\n",
       "      <td>2050-02-14</td>\n",
       "      <td>49.20</td>\n",
       "      <td>0.03466</td>\n",
       "      <td>2020-07-14</td>\n",
       "      <td>10807</td>\n",
       "    </tr>\n",
       "  </tbody>\n",
       "</table>\n",
       "</div>"
      ],
      "text/plain": [
       "                 Transaction     Taux Date de la valeur  Nombre de jours\n",
       "Date d'échéance                                                         \n",
       "2020-09-05             21.02  0.01534        2020-07-21               46\n",
       "2020-09-14             89.47  0.01540        2020-07-20               56\n",
       "2020-12-07             61.48  0.01590        2020-07-23              137\n",
       "2021-02-15             27.76  0.01574        2020-07-23              207\n",
       "2021-05-17            282.82  0.01635        2020-07-23              298\n",
       "2022-07-18            124.58  0.01798        2020-07-23              725\n",
       "2022-08-15            124.53  0.01805        2020-07-23              753\n",
       "2023-04-03            103.35  0.01840        2020-07-23              984\n",
       "2025-04-14            247.36  0.02009        2020-07-23             1726\n",
       "2025-06-02             41.08  0.02019        2020-07-23             1775\n",
       "2028-06-19             43.12  0.02254        2020-07-23             2888\n",
       "2029-06-18            135.76  0.02330        2020-07-23             3252\n",
       "2030-06-17             52.07  0.02390        2020-07-23             3616\n",
       "2033-07-18             39.58  0.02510        2020-07-23             4743\n",
       "2036-02-04            207.87  0.02675        2020-07-23             5674\n",
       "2040-04-16             43.32  0.02908        2020-07-17             7213\n",
       "2046-02-19             25.93  0.03243        2020-07-20             9345\n",
       "2050-02-14             49.20  0.03466        2020-07-14            10807"
      ]
     },
     "execution_count": 102,
     "metadata": {},
     "output_type": "execute_result"
    }
   ],
   "source": [
    "for i in range(len(taux_bkam.index)):\n",
    "    taux_bkam[\"Nombre de jours\"].iloc[i] = (taux_bkam.index[i]-taux_bkam[\"Date de la valeur\"][i]).days\n",
    "taux_bkam"
   ]
  },
  {
   "cell_type": "code",
   "execution_count": 80,
   "metadata": {},
   "outputs": [
    {
     "data": {
      "text/plain": [
       "<matplotlib.axes._subplots.AxesSubplot at 0x21589b07188>"
      ]
     },
     "execution_count": 80,
     "metadata": {},
     "output_type": "execute_result"
    },
    {
     "data": {
      "image/png": "[encoded data removed]",
      "text/plain": [
       "<Figure size 720x432 with 1 Axes>"
      ]
     },
     "metadata": {
      "needs_background": "light"
     },
     "output_type": "display_data"
    }
   ],
   "source": [
    "taux_bkam[\"Taux\"].plot(figsize=(10,6), fontsize=14, title = \"Courbe des taux\")"
   ]
  },
  {
   "cell_type": "markdown",
   "metadata": {},
   "source": [
    "### Interpolation pour trouver le rendement entre deux dates"
   ]
  },
  {
   "cell_type": "code",
   "execution_count": 81,
   "metadata": {},
   "outputs": [],
   "source": [
    "from datetime import date, datetime\n",
    "\n",
    "def date_str2date(date0): #format \"22-11-2020\"\n",
    "    d = date0.split(\"-\")\n",
    "    day = int(d[0])\n",
    "    month = int(d[1])\n",
    "    year = int(d[2])\n",
    "    return datetime(year,month,day)  \n",
    "\n",
    "def date_date2str(date0):\n",
    "    return str(date0.day)+\"-\"+str(date0.month)+\"-\"+str(date0.year)\n",
    "    \n",
    "\n",
    "def date_apres(maturite):\n",
    "    maturite = date_str2date(maturite)\n",
    "    i=0\n",
    "    while (maturite-taux_bkam.index[i]).days>0:\n",
    "        i+=1\n",
    "    return taux_bkam.index[i]\n",
    "\n",
    "def date_avant(maturite):\n",
    "    maturite = date_str2date(maturite)\n",
    "    i=taux_bkam.shape[0]-1\n",
    "    while (maturite-taux_bkam.index[i]).days<0:\n",
    "        i-=1\n",
    "    return taux_bkam.index[i]"
   ]
  },
  {
   "cell_type": "code",
   "execution_count": 82,
   "metadata": {},
   "outputs": [],
   "source": [
    "def interp_l(mat):\n",
    "    \n",
    "    t1 = date_avant(mat)\n",
    "    t2 = date_apres(mat)\n",
    "    \n",
    "    maturite = date_str2date(mat)\n",
    "    a = ((t2-maturite).days)*taux_bkam.loc[t1][\"Taux\"]\n",
    "    b = ((maturite-t1).days)*taux_bkam.loc[t2][\"Taux\"]\n",
    "    dt = (t2 - t1).days\n",
    "    \n",
    "    return (a+b)/dt"
   ]
  },
  {
   "cell_type": "markdown",
   "metadata": {},
   "source": [
    "# Taux annuels par interpolation"
   ]
  },
  {
   "cell_type": "code",
   "execution_count": 83,
   "metadata": {},
   "outputs": [],
   "source": [
    "from datetime import timedelta\n",
    "\n",
    "def add_time(date, jours=0, mois=0, ans=0):\n",
    "    \"\"\"\n",
    "    format de la date : jj/mm/aaaa\n",
    "    \"\"\"\n",
    "    return date_str2date(date) + timedelta(days=(jours + mois*30 + ans*360))"
   ]
  },
  {
   "cell_type": "code",
   "execution_count": 84,
   "metadata": {},
   "outputs": [],
   "source": [
    "def somme(periode):\n",
    "    s = np.array((1+taux.loc[periode][\"Taux référence\"])**(-taux.index))[:periode-1].sum() - np.array((1+taux.loc[:periode-1][\"Taux ZC\"])**(-taux.index[:periode-1])).sum()\n",
    "    return s\n"
   ]
  },
  {
   "cell_type": "code",
   "execution_count": 85,
   "metadata": {},
   "outputs": [],
   "source": [
    "def taux_zc(periode):\n",
    "    if periode ==1:\n",
    "        return taux.loc[1][\"Taux référence\"]\n",
    "    return (somme(periode) + (1+taux.loc[periode][\"Taux référence\"])**(-periode))**(-1/periode) - 1"
   ]
  },
  {
   "cell_type": "code",
   "execution_count": 86,
   "metadata": {},
   "outputs": [],
   "source": [
    "nb_ans = 30\n",
    "taux = pd.DataFrame(index = np.arange(1,nb_ans+1), columns=[\"Maturité\",\"Taux référence\",\"Taux ZC\"])\n",
    "\n",
    "date_str = \"17-7-2020\"\n",
    "date_eval = date_str2date(date_str)\n",
    "\n",
    "taux.loc[nb_ans][\"Maturité\"] = str(nb_ans) + \" ans\"\n",
    "taux.loc[nb_ans][\"Taux référence\"] = taux_bkam.iloc[-1][\"Taux\"]  \n",
    "\n",
    "taux.loc[1][\"Taux ZC\"] = taux.loc[1][\"Taux référence\"] = interp_l(date_date2str(add_time(date_str,ans = 1)))\n",
    "\n",
    "for i in range(1,nb_ans+1):\n",
    "    taux.loc[i][\"Maturité\"] = str(i) + \" ans\"\n",
    "    taux.loc[i][\"Taux référence\"] = interp_l(date_date2str(add_time(date_str,ans = i)))\n",
    "    taux.loc[i][\"Taux ZC\"] = taux_zc(i)"
   ]
  },
  {
   "cell_type": "code",
   "execution_count": 87,
   "metadata": {},
   "outputs": [],
   "source": [
    "taux[\"Taux référence\"] = taux[\"Taux référence\"].astype('float32')"
   ]
  },
  {
   "cell_type": "code",
   "execution_count": 88,
   "metadata": {},
   "outputs": [
    {
     "data": {
      "text/html": [
       "<div>\n",
       "<style scoped>\n",
       "    .dataframe tbody tr th:only-of-type {\n",
       "        vertical-align: middle;\n",
       "    }\n",
       "\n",
       "    .dataframe tbody tr th {\n",
       "        vertical-align: top;\n",
       "    }\n",
       "\n",
       "    .dataframe thead th {\n",
       "        text-align: right;\n",
       "    }\n",
       "</style>\n",
       "<table border=\"1\" class=\"dataframe\">\n",
       "  <thead>\n",
       "    <tr style=\"text-align: right;\">\n",
       "      <th></th>\n",
       "      <th>Maturité</th>\n",
       "      <th>Taux référence</th>\n",
       "      <th>Taux ZC</th>\n",
       "    </tr>\n",
       "  </thead>\n",
       "  <tbody>\n",
       "    <tr>\n",
       "      <td>1</td>\n",
       "      <td>1 ans</td>\n",
       "      <td>0.016564</td>\n",
       "      <td>0.0165638</td>\n",
       "    </tr>\n",
       "    <tr>\n",
       "      <td>2</td>\n",
       "      <td>2 ans</td>\n",
       "      <td>0.017938</td>\n",
       "      <td>0.0186391</td>\n",
       "    </tr>\n",
       "    <tr>\n",
       "      <td>3</td>\n",
       "      <td>3 ans</td>\n",
       "      <td>0.018605</td>\n",
       "      <td>0.0192901</td>\n",
       "    </tr>\n",
       "    <tr>\n",
       "      <td>4</td>\n",
       "      <td>4 ans</td>\n",
       "      <td>0.019425</td>\n",
       "      <td>0.0207007</td>\n",
       "    </tr>\n",
       "    <tr>\n",
       "      <td>5</td>\n",
       "      <td>5 ans</td>\n",
       "      <td>0.020230</td>\n",
       "      <td>0.0219176</td>\n",
       "    </tr>\n",
       "    <tr>\n",
       "      <td>6</td>\n",
       "      <td>6 ans</td>\n",
       "      <td>0.020990</td>\n",
       "      <td>0.0230028</td>\n",
       "    </tr>\n",
       "    <tr>\n",
       "      <td>7</td>\n",
       "      <td>7 ans</td>\n",
       "      <td>0.021750</td>\n",
       "      <td>0.0241946</td>\n",
       "    </tr>\n",
       "    <tr>\n",
       "      <td>8</td>\n",
       "      <td>8 ans</td>\n",
       "      <td>0.022510</td>\n",
       "      <td>0.0253994</td>\n",
       "    </tr>\n",
       "    <tr>\n",
       "      <td>9</td>\n",
       "      <td>9 ans</td>\n",
       "      <td>0.023262</td>\n",
       "      <td>0.0265742</td>\n",
       "    </tr>\n",
       "    <tr>\n",
       "      <td>10</td>\n",
       "      <td>10 ans</td>\n",
       "      <td>0.023864</td>\n",
       "      <td>0.0268725</td>\n",
       "    </tr>\n",
       "    <tr>\n",
       "      <td>11</td>\n",
       "      <td>11 ans</td>\n",
       "      <td>0.024260</td>\n",
       "      <td>0.0264756</td>\n",
       "    </tr>\n",
       "    <tr>\n",
       "      <td>12</td>\n",
       "      <td>12 ans</td>\n",
       "      <td>0.024643</td>\n",
       "      <td>0.0270306</td>\n",
       "    </tr>\n",
       "    <tr>\n",
       "      <td>13</td>\n",
       "      <td>13 ans</td>\n",
       "      <td>0.025027</td>\n",
       "      <td>0.0276659</td>\n",
       "    </tr>\n",
       "    <tr>\n",
       "      <td>14</td>\n",
       "      <td>14 ans</td>\n",
       "      <td>0.025616</td>\n",
       "      <td>0.0301341</td>\n",
       "    </tr>\n",
       "    <tr>\n",
       "      <td>15</td>\n",
       "      <td>15 ans</td>\n",
       "      <td>0.026254</td>\n",
       "      <td>0.0316382</td>\n",
       "    </tr>\n",
       "    <tr>\n",
       "      <td>16</td>\n",
       "      <td>16 ans</td>\n",
       "      <td>0.026872</td>\n",
       "      <td>0.0325592</td>\n",
       "    </tr>\n",
       "    <tr>\n",
       "      <td>17</td>\n",
       "      <td>17 ans</td>\n",
       "      <td>0.027419</td>\n",
       "      <td>0.0328635</td>\n",
       "    </tr>\n",
       "    <tr>\n",
       "      <td>18</td>\n",
       "      <td>18 ans</td>\n",
       "      <td>0.027966</td>\n",
       "      <td>0.0338692</td>\n",
       "    </tr>\n",
       "    <tr>\n",
       "      <td>19</td>\n",
       "      <td>19 ans</td>\n",
       "      <td>0.028513</td>\n",
       "      <td>0.0348984</td>\n",
       "    </tr>\n",
       "    <tr>\n",
       "      <td>20</td>\n",
       "      <td>20 ans</td>\n",
       "      <td>0.029060</td>\n",
       "      <td>0.0359535</td>\n",
       "    </tr>\n",
       "    <tr>\n",
       "      <td>21</td>\n",
       "      <td>21 ans</td>\n",
       "      <td>0.029624</td>\n",
       "      <td>0.0373085</td>\n",
       "    </tr>\n",
       "    <tr>\n",
       "      <td>22</td>\n",
       "      <td>22 ans</td>\n",
       "      <td>0.030189</td>\n",
       "      <td>0.0384764</td>\n",
       "    </tr>\n",
       "    <tr>\n",
       "      <td>23</td>\n",
       "      <td>23 ans</td>\n",
       "      <td>0.030754</td>\n",
       "      <td>0.0396732</td>\n",
       "    </tr>\n",
       "    <tr>\n",
       "      <td>24</td>\n",
       "      <td>24 ans</td>\n",
       "      <td>0.031319</td>\n",
       "      <td>0.0409132</td>\n",
       "    </tr>\n",
       "    <tr>\n",
       "      <td>25</td>\n",
       "      <td>25 ans</td>\n",
       "      <td>0.031884</td>\n",
       "      <td>0.0422018</td>\n",
       "    </tr>\n",
       "    <tr>\n",
       "      <td>26</td>\n",
       "      <td>26 ans</td>\n",
       "      <td>0.032448</td>\n",
       "      <td>0.0435349</td>\n",
       "    </tr>\n",
       "    <tr>\n",
       "      <td>27</td>\n",
       "      <td>27 ans</td>\n",
       "      <td>0.033000</td>\n",
       "      <td>0.0446004</td>\n",
       "    </tr>\n",
       "    <tr>\n",
       "      <td>28</td>\n",
       "      <td>28 ans</td>\n",
       "      <td>0.033551</td>\n",
       "      <td>0.0460313</td>\n",
       "    </tr>\n",
       "    <tr>\n",
       "      <td>29</td>\n",
       "      <td>29 ans</td>\n",
       "      <td>0.034102</td>\n",
       "      <td>0.0475408</td>\n",
       "    </tr>\n",
       "    <tr>\n",
       "      <td>30</td>\n",
       "      <td>30 ans</td>\n",
       "      <td>0.034654</td>\n",
       "      <td>0.0491419</td>\n",
       "    </tr>\n",
       "  </tbody>\n",
       "</table>\n",
       "</div>"
      ],
      "text/plain": [
       "   Maturité  Taux référence    Taux ZC\n",
       "1     1 ans        0.016564  0.0165638\n",
       "2     2 ans        0.017938  0.0186391\n",
       "3     3 ans        0.018605  0.0192901\n",
       "4     4 ans        0.019425  0.0207007\n",
       "5     5 ans        0.020230  0.0219176\n",
       "6     6 ans        0.020990  0.0230028\n",
       "7     7 ans        0.021750  0.0241946\n",
       "8     8 ans        0.022510  0.0253994\n",
       "9     9 ans        0.023262  0.0265742\n",
       "10   10 ans        0.023864  0.0268725\n",
       "11   11 ans        0.024260  0.0264756\n",
       "12   12 ans        0.024643  0.0270306\n",
       "13   13 ans        0.025027  0.0276659\n",
       "14   14 ans        0.025616  0.0301341\n",
       "15   15 ans        0.026254  0.0316382\n",
       "16   16 ans        0.026872  0.0325592\n",
       "17   17 ans        0.027419  0.0328635\n",
       "18   18 ans        0.027966  0.0338692\n",
       "19   19 ans        0.028513  0.0348984\n",
       "20   20 ans        0.029060  0.0359535\n",
       "21   21 ans        0.029624  0.0373085\n",
       "22   22 ans        0.030189  0.0384764\n",
       "23   23 ans        0.030754  0.0396732\n",
       "24   24 ans        0.031319  0.0409132\n",
       "25   25 ans        0.031884  0.0422018\n",
       "26   26 ans        0.032448  0.0435349\n",
       "27   27 ans        0.033000  0.0446004\n",
       "28   28 ans        0.033551  0.0460313\n",
       "29   29 ans        0.034102  0.0475408\n",
       "30   30 ans        0.034654  0.0491419"
      ]
     },
     "execution_count": 88,
     "metadata": {},
     "output_type": "execute_result"
    }
   ],
   "source": [
    "taux"
   ]
  },
  {
   "cell_type": "markdown",
   "metadata": {},
   "source": [
    "# Obligations\n",
    "### Générer les cashflows d'une obligation"
   ]
  },
  {
   "cell_type": "code",
   "execution_count": 89,
   "metadata": {},
   "outputs": [],
   "source": [
    "def obligation_cashflows(maturite, coupons_par_an, taux_facial = 0.03, principal = 1000, amortissable = False):\n",
    "    #nombre de coupons versés par an\n",
    "    n_coupons = maturite*coupons_par_an\n",
    "    #dates de versement des coupons\n",
    "    dates_coupon = np.arange(1,n_coupons+1)\n",
    "    \n",
    "    if isinstance(taux_facial, float):\n",
    "        if amortissable :\n",
    "            amortissement = principal/maturite\n",
    "            reste = principal\n",
    "            cashflows = pd.Series(index = dates_coupon)\n",
    "            for i in dates_coupon :\n",
    "                montant_coupon = reste * taux_facial/coupons_par_an + amortissement\n",
    "                reste -= amortissement\n",
    "                cashflows.loc[i] = montant_coupon\n",
    "        else :\n",
    "            #montant du coupon\n",
    "            montant_coupon = principal * taux_facial/coupons_par_an\n",
    "            cashflows = pd.Series(data = montant_coupon, index = dates_coupon)\n",
    "            #remboursement du principal\n",
    "            cashflows.iloc[-1] += principal\n",
    "            \n",
    "    else:\n",
    "        if amortissable :\n",
    "            amortissement = principal/n_coupons\n",
    "            reste = principal\n",
    "            cashflows = pd.Series(index = dates_coupon)\n",
    "            for i in dates_coupon :\n",
    "                montant_coupon = reste * taux_facial[i-1]/coupons_par_an + amortissement\n",
    "                reste = reste - amortissement\n",
    "                cashflows.iloc[i-1] = montant_coupon\n",
    "        else :\n",
    "            #montant du coupon\n",
    "            cashflows = pd.Series(index = dates_coupon)\n",
    "            for i in dates_coupon :\n",
    "                montant_coupon = principal * taux_facial[i-1]/coupons_par_an\n",
    "                cashflows.iloc[i-1] = montant_coupon\n",
    "            #remboursement du principal\n",
    "            cashflows.iloc[-1] += principal\n",
    "    return cashflows"
   ]
  },
  {
   "cell_type": "code",
   "execution_count": 90,
   "metadata": {},
   "outputs": [
    {
     "data": {
      "text/plain": [
       "1      2000.0\n",
       "2      3000.0\n",
       "3      4000.0\n",
       "4    103000.0\n",
       "dtype: float64"
      ]
     },
     "execution_count": 90,
     "metadata": {},
     "output_type": "execute_result"
    }
   ],
   "source": [
    "obligation_cashflows(maturite=4, coupons_par_an=1, principal = 100000, \n",
    "                     taux_facial = [0.02,0.03, 0.04, 0.03], amortissable = False)"
   ]
  },
  {
   "cell_type": "code",
   "execution_count": 91,
   "metadata": {},
   "outputs": [
    {
     "data": {
      "text/plain": [
       "1    29000.0\n",
       "2    28000.0\n",
       "3    27000.0\n",
       "4    26000.0\n",
       "dtype: float64"
      ]
     },
     "execution_count": 91,
     "metadata": {},
     "output_type": "execute_result"
    }
   ],
   "source": [
    "obligation_cashflows(maturite=4, coupons_par_an=1, principal = 100000, taux_facial = 0.04, amortissable = True)"
   ]
  },
  {
   "cell_type": "markdown",
   "metadata": {},
   "source": [
    "### Actualiser une valeur à un taux de rendement actuariel à une période t"
   ]
  },
  {
   "cell_type": "code",
   "execution_count": 92,
   "metadata": {},
   "outputs": [],
   "source": [
    "def actualiser(valeur, taux_rendement, t):\n",
    "    return valeur*(1+taux_rendement)**-(t)"
   ]
  },
  {
   "cell_type": "markdown",
   "metadata": {},
   "source": [
    "### Calculer la valeur actualisée des cashflows d'une obligation à taux variable/fixe"
   ]
  },
  {
   "cell_type": "code",
   "execution_count": 93,
   "metadata": {},
   "outputs": [],
   "source": [
    "def pv_cashflows(cashflows, taux_rendement):\n",
    "    L = []\n",
    "    if isinstance(taux_rendement, float):\n",
    "        for i in range(len(cashflows.index)):\n",
    "            L.append(actualiser(cashflows.iloc[i],taux_rendement,i+1))\n",
    "    \n",
    "    else:\n",
    "        if len(cashflows)!=len(taux_rendement):\n",
    "            raise TypeError(\"Les listes cashflows et taux_actu doivent être de la même taille\")\n",
    "        i=0\n",
    "        for t in taux_rendement:\n",
    "            L.append(actualiser(cashflows.iloc[i],t,i+1))\n",
    "            i+=1\n",
    "    return np.array(L).sum()"
   ]
  },
  {
   "cell_type": "code",
   "execution_count": 94,
   "metadata": {
    "scrolled": true
   },
   "outputs": [
    {
     "data": {
      "text/plain": [
       "(1000.0, 1000.0)"
      ]
     },
     "execution_count": 94,
     "metadata": {},
     "output_type": "execute_result"
    }
   ],
   "source": [
    "#application\n",
    "taux_facial_fixe = 0.02\n",
    "taux_facial_variable = [0.02, 0.02, 0.02]\n",
    "taux_rendement = [0.02,0.02, 0.02]\n",
    "cf_fixe = obligation_cashflows(maturite = 3, coupons_par_an = 1, principal = 1000, \n",
    "                               taux_facial = taux_facial_fixe , amortissable=False)\n",
    "cf_v = obligation_cashflows(maturite = 3, coupons_par_an = 1, principal = 1000, \n",
    "                            taux_facial = taux_facial_variable , amortissable=False)\n",
    "\n",
    "pv_cashflows(cf_v, taux_rendement), pv_cashflows(cf_fixe, taux_rendement)"
   ]
  },
  {
   "cell_type": "code",
   "execution_count": 103,
   "metadata": {},
   "outputs": [
    {
     "data": {
      "text/plain": [
       "108.5302028367758"
      ]
     },
     "execution_count": 103,
     "metadata": {},
     "output_type": "execute_result"
    }
   ],
   "source": [
    "cf = obligation_cashflows(maturite = 10, coupons_par_an = 1, principal = 100, \n",
    "                               taux_facial = 0.04 , amortissable=False)\n",
    "pv_cashflows(cf, 0.03)"
   ]
  },
  {
   "cell_type": "code",
   "execution_count": 104,
   "metadata": {},
   "outputs": [],
   "source": [
    "tra = np.linspace(0,0.15,20) #Taux de rendement actuariel\n",
    "prix_obligation = []\n",
    "for t in range(len(tra)):\n",
    "    prix_obligation.append(pv_cashflows(cf,tra[t]))"
   ]
  },
  {
   "cell_type": "code",
   "execution_count": 105,
   "metadata": {},
   "outputs": [
    {
     "data": {
      "text/plain": [
       "[<matplotlib.lines.Line2D at 0x21589c58908>]"
      ]
     },
     "execution_count": 105,
     "metadata": {},
     "output_type": "execute_result"
    },
    {
     "data": {
      "image/png": "[encoded data removed]",
      "text/plain": [
       "<Figure size 1080x432 with 1 Axes>"
      ]
     },
     "metadata": {
      "needs_background": "light"
     },
     "output_type": "display_data"
    }
   ],
   "source": [
    "plt.figure(figsize=(15,6))\n",
    "plt.xlabel(\"Taux de rendement actuariel\")\n",
    "plt.ylabel(\"Prix de l'obligation\")\n",
    "plt.title(\"Diagramme relation prix-taux pour une obligation zero-coupon de maturité 10 ans et de valeur nominale 100 MAD\",loc='center')\n",
    "plt.plot(tra,prix_obligation)"
   ]
  },
  {
   "cell_type": "markdown",
   "metadata": {},
   "source": [
    "# Pricing obligation"
   ]
  },
  {
   "cell_type": "code",
   "execution_count": 106,
   "metadata": {},
   "outputs": [],
   "source": [
    "def pricing_obligation(maturite, coupons_par_an, taux_facial = 0.03, tra = 0.03, principal = 1000, amortissable = False):\n",
    "    cashflows = obligation_cashflows(maturite, coupons_par_an, taux_facial, principal, amortissable)\n",
    "    return pv_cashflows(cashflows,tra)"
   ]
  },
  {
   "cell_type": "code",
   "execution_count": 107,
   "metadata": {},
   "outputs": [
    {
     "data": {
      "text/plain": [
       "937.1944898700186"
      ]
     },
     "execution_count": 107,
     "metadata": {},
     "output_type": "execute_result"
    }
   ],
   "source": [
    "pricing_obligation(maturite = 8, coupons_par_an = 2, taux_facial = 0.05, tra=0.03, principal = 1000, amortissable=False)"
   ]
  }
 ],
 "metadata": {
  "kernelspec": {
   "display_name": "Python 3",
   "language": "python",
   "name": "python3"
  },
  "language_info": {
   "codemirror_mode": {
    "name": "ipython",
    "version": 3
   },
   "file_extension": ".py",
   "mimetype": "text/x-python",
   "name": "python",
   "nbconvert_exporter": "python",
   "pygments_lexer": "ipython3",
   "version": "3.7.4"
  }
 },
 "nbformat": 4,
 "nbformat_minor": 4
}
